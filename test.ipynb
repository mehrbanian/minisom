{
 "cells": [
  {
   "cell_type": "code",
   "execution_count": 1,
   "metadata": {},
   "outputs": [],
   "source": [
    "import numpy as np\n",
    "import cv2\n",
    "import matplotlib.pyplot as plt\n",
    "import os\n",
    "import sys\n",
    "import susi\n",
    "from sklearn_som.som import SOM\n",
    "from sklearn.model_selection import train_test_split\n",
    "from minisom2 import MiniSom\n",
    "# sys.path.insert(0,'minisom')\n",
    "# from minisom2 import MiniSom"
   ]
  },
  {
   "cell_type": "code",
   "execution_count": 2,
   "metadata": {},
   "outputs": [],
   "source": [
    "import random\n",
    "\n",
    "def read_imgs(folder_path):\n",
    "    data = [[], []]\n",
    "    for subdir, dirs, files in os.walk(folder_path):\n",
    "        for file in files:\n",
    "            im = cv2.imread(os.path.join(subdir, file), 0)\n",
    "            data[0].append(im.flatten())\n",
    "            data[1].append(int(subdir[-1]))\n",
    "    return np.array(data[0]), np.array(data[1])\n",
    "\n",
    "X, y = read_imgs(\"../HW1/MNIST Dataset\")\n",
    "c = list(zip(X, y))\n",
    "random.shuffle(c)\n",
    "X, y = zip(*c)"
   ]
  },
  {
   "cell_type": "code",
   "execution_count": 3,
   "metadata": {},
   "outputs": [],
   "source": [
    "X_train, X_test, y_train, y_test = train_test_split(X, y, test_size=0.1, stratify=y, random_state=42)"
   ]
  },
  {
   "cell_type": "code",
   "execution_count": 4,
   "metadata": {},
   "outputs": [
    {
     "name": "stdout",
     "output_type": "stream",
     "text": [
      " [ 54000000 / 54000000 ] 100% - 0:00:00 left "
     ]
    },
    {
     "name": "stderr",
     "output_type": "stream",
     "text": [
      "g:\\Arshad Projects\\Term 2\\NN\\Project\\minisom\\minisom2.py:586: RuntimeWarning: invalid value encountered in sqrt\n",
      "  return sqrt(-2 * cross_term + input_data_sq + weights_flat_sq.T)\n"
     ]
    },
    {
     "name": "stdout",
     "output_type": "stream",
     "text": [
      "\n",
      " quantization error: 1978.5459640530837\n"
     ]
    }
   ],
   "source": [
    "wta_som = MiniSom(10, 1, 784, competition_form=\"wta\", learning_rate=0.5)\n",
    "wta_som.random_weights_init(X_train)\n",
    "wta_som.train(X_train, 3000, use_epochs=True, random_order=True, verbose=True)"
   ]
  },
  {
   "cell_type": "code",
   "execution_count": 6,
   "metadata": {},
   "outputs": [
    {
     "data": {
      "image/png": "[encoded data removed]",
      "text/plain": [
       "<Figure size 500x100 with 1 Axes>"
      ]
     },
     "metadata": {},
     "output_type": "display_data"
    }
   ],
   "source": [
    "plt.figure(figsize=(5, 1))\n",
    "wta_wmap = {}\n",
    "im = 0\n",
    "for x, t in zip(X_train, y_train):  # scatterplot\n",
    "    w = wta_som.winner(x)\n",
    "    wta_wmap[w] = im\n",
    "    plt.text(w[0]+.5,  w[1]+.5, str(t), color=plt.cm.rainbow(t / 10.), fontdict={'weight': 'bold',  'size': 11})\n",
    "    im = im + 1\n",
    "plt.axis([0, wta_som.get_weights().shape[0], 0,  wta_som.get_weights().shape[1]])\n",
    "plt.show()"
   ]
  },
  {
   "cell_type": "code",
   "execution_count": 9,
   "metadata": {},
   "outputs": [
    {
     "name": "stdout",
     "output_type": "stream",
     "text": [
      "(10, 1, 784)\n"
     ]
    }
   ],
   "source": [
    "print(wta_som.get_weights().shape)"
   ]
  },
  {
   "cell_type": "code",
   "execution_count": 5,
   "metadata": {},
   "outputs": [],
   "source": [
    "import pickle\n",
    "# saving the som in the file som.p\n",
    "with open('../HW1/wta_som.p', 'wb') as outfile:\n",
    "    pickle.dump(wta_som, outfile)"
   ]
  }
 ],
 "metadata": {
  "kernelspec": {
   "display_name": "base",
   "language": "python",
   "name": "python3"
  },
  "language_info": {
   "codemirror_mode": {
    "name": "ipython",
    "version": 3
   },
   "file_extension": ".py",
   "mimetype": "text/x-python",
   "name": "python",
   "nbconvert_exporter": "python",
   "pygments_lexer": "ipython3",
   "version": "3.9.15"
  },
  "orig_nbformat": 4,
  "vscode": {
   "interpreter": {
    "hash": "ffc2c986650f75bb84df5ef0f5794d173c138677d61245fd2c4ff2debf2f2371"
   }
  }
 },
 "nbformat": 4,
 "nbformat_minor": 2
}
